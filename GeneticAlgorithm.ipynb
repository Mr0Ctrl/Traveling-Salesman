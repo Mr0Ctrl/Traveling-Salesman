{
 "cells": [
  {
   "cell_type": "markdown",
   "metadata": {},
   "source": [
    "şimdilik temel py fonksiyonları kullanarak ilerleyeceğim ancak ilerleyen zamanda numpy ve matplotlib e de geçebilirim"
   ]
  },
  {
   "cell_type": "code",
   "execution_count": 88,
   "metadata": {},
   "outputs": [
    {
     "name": "stdout",
     "output_type": "stream",
     "text": [
      "  0  29  20  21  16  31 \n",
      " 29   0  15  17  28  23 \n",
      " 20  15   0  30  26  40 \n",
      " 21  17  30   0  23  27 \n",
      " 16  28  26  23   0  19 \n",
      " 31  23  40  27  19   0 \n"
     ]
    }
   ],
   "source": [
    "cityMatrix = [\n",
    "#   A   B   C   D   E   F   \n",
    "   [0,  29, 20, 21, 16, 31],#A\n",
    "   [29, 0,  15, 17, 28, 23],#B\n",
    "   [20, 15, 0,  30, 26, 40],#C  \n",
    "   [21, 17, 30, 0,  23, 27],#D\n",
    "   [16, 28, 26, 23, 0,  19],#E\n",
    "   [31, 23, 40, 27, 19, 0],#F\n",
    "\n",
    "]\n",
    "\n",
    "def displayMatrix(matrix):\n",
    "    for x in matrix:\n",
    "        for y in x:\n",
    "            print(f\"{y:3} \",end=\"\")\n",
    "        print()\n",
    "\n",
    "displayMatrix(cityMatrix)"
   ]
  },
  {
   "cell_type": "markdown",
   "metadata": {},
   "source": [
    "<pre>\n",
    "now i will create a rule fo genome structure.\n",
    "1 : i should evaluate the genomes by displacement.\n",
    "2 : they should go every position once (by this data 4 steps).\n",
    "\n",
    "A :\n",
    "1-4 whic points will be wisited\n",
    "[1,2,3,4]#and returning starting point\n",
    "i can delete genoms by control ??\n",
    "not binary\n",
    "\n",
    "B :\n",
    "1-3 path will bi selected\n",
    "[1,2,3,1]# and the path which returns origin\n",
    "may be more suitable for mutation and crossover\n",
    "#it has on risks\n",
    "I will use Format B\n",
    "because more basic\n",
    "</pre>\n"
   ]
  },
  {
   "cell_type": "code",
   "execution_count": 89,
   "metadata": {},
   "outputs": [
    {
     "name": "stdout",
     "output_type": "stream",
     "text": [
      "A->A->C->D->E->E->A\n",
      "False\n"
     ]
    }
   ],
   "source": [
    "cityList = [\"A\",\"B\",\"C\",\"D\",\"E\",\"F\"]\n",
    "\n",
    "genome0 = [0,0,2,3,4,4]\n",
    "\n",
    "def printThePath(genome):\n",
    "    for i in genome:\n",
    "        print(cityList[i],end=\"->\")\n",
    "    print(cityList[genome[0]])\n",
    "\n",
    "def calDisplacement(genome):\n",
    "    gSum = 0\n",
    "\n",
    "    start = genome[0]\n",
    "    past = start\n",
    "    displace = 0\n",
    "\n",
    "    for i in genome:\n",
    "        gSum += i \n",
    "        displace += cityMatrix[past][i]\n",
    "        past = i\n",
    "    displace += cityMatrix[past][start]\n",
    "    if gSum != 6:\n",
    "        return False\n",
    "    return displace\n",
    "        \n",
    "\n",
    "printThePath(genome0)\n",
    "print(calDisplacement(genome0))"
   ]
  },
  {
   "cell_type": "markdown",
   "metadata": {},
   "source": [
    "<pre>\n",
    "i decide it\n",
    "i cant use crossover in this problem\n",
    "i will use mutation and selection\n",
    "\n",
    "1# generate N random genome\n",
    "2# evaluate genomes\n",
    "3# select genomes by a method (roulet table or rank)\n",
    "4# mutate wariant genoms\n",
    "5# back to step 2\n",
    "</pre>"
   ]
  },
  {
   "cell_type": "code",
   "execution_count": 109,
   "metadata": {},
   "outputs": [
    {
     "name": "stdout",
     "output_type": "stream",
     "text": [
      "[5, 0, 1, 3, 2, 4]\n",
      "[1, 3, 2, 5, 4, 0]\n",
      "[3, 5, 1, 4, 2, 0]\n",
      "[1, 5, 2, 3, 0, 4]\n",
      "[2, 1, 5, 3, 4, 0]\n",
      "[1, 2, 5, 4, 3, 0]\n",
      "[4, 3, 5, 2, 1, 0]\n",
      "[0, 5, 2, 4, 3, 1]\n"
     ]
    }
   ],
   "source": [
    "#1 Generate random genomes\n",
    "import random\n",
    "gLength = 6\n",
    "popSize = 8\n",
    "genomeS = []\n",
    "\n",
    "for i in range(popSize):\n",
    "    genomeS.append(random.sample(range(gLength),gLength))#4 is hard change 4 with a variable\n",
    "\n",
    "for i in genomeS:\n",
    "    print(i)"
   ]
  },
  {
   "cell_type": "code",
   "execution_count": 148,
   "metadata": {},
   "outputs": [
    {
     "name": "stdout",
     "output_type": "stream",
     "text": [
      "[114, [3, 5, 4, 0, 2, 1]]\n",
      "[128, [3, 0, 4, 5, 2, 1]]\n",
      "[147, [4, 0, 3, 5, 2, 1]]\n",
      "[150, [0, 4, 3, 5, 2, 1]]\n",
      "[114, [1, 3, 5, 4, 0, 2]]\n",
      "[148, [5, 3, 1, 4, 0, 2]]\n",
      "[162, [2, 3, 1, 4, 0, 5]]\n",
      "[163, [0, 3, 1, 4, 2, 5]]\n"
     ]
    }
   ],
   "source": [
    "#2 evaluate fitness\n",
    "genomeFit = [] # may i change variable name\n",
    "\n",
    "for genome in genomeS:\n",
    "    fitness = 0\n",
    "    begin = genome[0]\n",
    "    past = begin\n",
    "\n",
    "    for i in genome:\n",
    "        fitness += cityMatrix[past][i]\n",
    "        past = i\n",
    "    fitness += cityMatrix[past][begin]\n",
    "    genomeFit.append([fitness,genome])\n",
    "\n",
    "for i in genomeFit:\n",
    "    print(i)"
   ]
  },
  {
   "cell_type": "code",
   "execution_count": 149,
   "metadata": {},
   "outputs": [
    {
     "name": "stdout",
     "output_type": "stream",
     "text": [
      "[114, [3, 5, 4, 0, 2, 1]]\n",
      "[128, [3, 0, 4, 5, 2, 1]]\n",
      "[147, [4, 0, 3, 5, 2, 1]]\n",
      "[150, [0, 4, 3, 5, 2, 1]]\n",
      "best:[114, [3, 5, 4, 0, 2, 1]]\n",
      "[114, [1, 3, 5, 4, 0, 2]]\n",
      "[148, [5, 3, 1, 4, 0, 2]]\n",
      "[162, [2, 3, 1, 4, 0, 5]]\n",
      "[163, [0, 3, 1, 4, 2, 5]]\n",
      "best:[114, [1, 3, 5, 4, 0, 2]]\n",
      "[114, [3, 5, 4, 0, 2, 1]]\n",
      "[114, [1, 3, 5, 4, 0, 2]]\n"
     ]
    }
   ],
   "source": [
    "#3select genomes by tournament\n",
    "gCount = popSize/4\n",
    "\n",
    "parentGens = []\n",
    "\n",
    "for offset in range(int(gCount)):\n",
    "    for i in genomeFit[offset*4:offset*4+4]:\n",
    "        print(i)\n",
    "    print(\"best:\",end=\"\")\n",
    "    best = min(genomeFit[offset*4:offset*4+4])\n",
    "    print(best)\n",
    "    parentGens.append(best)\n",
    "\n",
    "for i in parentGens:\n",
    "    print(i)"
   ]
  },
  {
   "cell_type": "code",
   "execution_count": 150,
   "metadata": {},
   "outputs": [
    {
     "name": "stdout",
     "output_type": "stream",
     "text": [
      "\n",
      "[3, 5, 4, 0, 2, 1]\n",
      "[3, 1, 4, 0, 2, 5]\n",
      "[3, 4, 1, 0, 2, 5]\n",
      "[3, 4, 1, 2, 0, 5]\n",
      "[1, 3, 5, 4, 0, 2]\n",
      "[1, 3, 4, 5, 0, 2]\n",
      "[1, 3, 4, 0, 5, 2]\n",
      "[1, 2, 4, 0, 5, 3]\n"
     ]
    }
   ],
   "source": [
    "#mutate genomes 3 new for each\n",
    "genomeS = []\n",
    "\n",
    "for parent in parentGens:\n",
    "    # print(parent,\"sa\")\n",
    "    genomeS.append(parent[1])\n",
    "    newGenome = parent[1][:]\n",
    "    for i in range(3):\n",
    "        change = random.sample(range(gLength),2)# change two gen positions\n",
    "        tmp = newGenome[change[0]]\n",
    "        newGenome[change[0]] = newGenome[change[1]]\n",
    "        newGenome[change[1]] = tmp\n",
    "        genomeS.append(newGenome[:])\n",
    "print()\n",
    "for i in genomeS:\n",
    "    print(i)"
   ]
  }
 ],
 "metadata": {
  "kernelspec": {
   "display_name": "Python 3",
   "language": "python",
   "name": "python3"
  },
  "language_info": {
   "codemirror_mode": {
    "name": "ipython",
    "version": 3
   },
   "file_extension": ".py",
   "mimetype": "text/x-python",
   "name": "python",
   "nbconvert_exporter": "python",
   "pygments_lexer": "ipython3",
   "version": "3.12.7"
  }
 },
 "nbformat": 4,
 "nbformat_minor": 2
}
